{
 "cells": [
  {
   "cell_type": "code",
   "execution_count": 1,
   "metadata": {},
   "outputs": [],
   "source": [
    "import pandas as pd\n",
    "import numpy as np"
   ]
  },
  {
   "cell_type": "code",
   "execution_count": 2,
   "metadata": {},
   "outputs": [],
   "source": [
    "dataframe = pd.read_csv(\"COVID_priority_variable_list_copy.csv\")\n",
    "\n",
    "num_patients = 320\n",
    "data = dataframe.loc[0:num_patients,:]\n",
    "# dataframe['SBP/DBP on admission']\n",
    "# data['How much IVF (ml)']\n",
    "# data.loc[0:10,:]\n"
   ]
  },
  {
   "cell_type": "code",
   "execution_count": null,
   "metadata": {},
   "outputs": [],
   "source": [
    "#preprocessing\n",
    "sbp_list = []\n",
    "dbp_list = []\n",
    "sbp_list.append(1)\n",
    "dbp_list.append(1)\n",
    "for i in range(num_patients):\n",
    "  if(pd.notna(data['SBP/DBP on admission'][i+1])):\n",
    "    bps = data['SBP/DBP on admission'][i+1].split('/')\n",
    "    sbp_list.append(bps[0])\n",
    "    dbp_list.append(bps[1])\n",
    "  else:\n",
    "    sbp_list.append(float('nan'))\n",
    "    dbp_list.append(float('nan'))\n",
    "len(sbp_list)\n",
    "data.insert(1, \"SBP on admission\", sbp_list, True) \n",
    "data.insert(1, \"DBP on admission\", dbp_list, True) \n",
    "\n",
    "for i in range(num_patients):\n",
    "  if(pd.notna(data['How much IVF (ml)'][i+1]) and (data['How much IVF (ml)'][i+1] == 'n/a' or data['How much IVF (ml)'][i+1] == 'N/a' or data['How much IVF (ml)'][i+1] == 'N/A')):\n",
    "    data['How much IVF (ml)'][i+1] = float('nan')\n",
    "\n",
    "# ARB Name and dose\n",
    "col_name = 'ARB Name and dose'\n",
    "arb_name = []\n",
    "arb_dose = []\n",
    "arb_name.append(0)\n",
    "arb_dose.append(1)\n",
    "for i in range(num_patients):\n",
    "  if(pd.notna(data[col_name][i+1])):\n",
    "    text = data[col_name][i+1].split(' ')\n",
    "    arb_name.append(text[0])\n",
    "    arb_dose.append(text[1])\n",
    "  else:\n",
    "    arb_name.append(float('nan'))\n",
    "    arb_dose.append(float('nan'))\n",
    "data.insert(1, \"ARB Name\", arb_name, True) \n",
    "data.insert(1, \"ARB Dose\", arb_dose, True) \n",
    "\n",
    "# ACEi Name and dose\n",
    "col_name = 'ACEi Name and dose'\n",
    "arb_name = []\n",
    "arb_dose = []\n",
    "arb_name.append(0)\n",
    "arb_dose.append(1)\n",
    "for i in range(num_patients):\n",
    "  if(pd.notna(data[col_name][i+1])):\n",
    "    text = data[col_name][i+1].split(' ')\n",
    "    arb_name.append(text[0])\n",
    "    if (\"mg\" in text[1].lower()):\n",
    "      string = text[1].lower()\n",
    "      arb_dose.append(string[0:string.index('mg')])\n",
    "    else:\n",
    "      arb_dose.append(text[1])\n",
    "  else:\n",
    "    arb_name.append(float('nan'))\n",
    "    arb_dose.append(float('nan'))\n",
    "data.insert(1, \"ACEi Name\", arb_name, True) \n",
    "data.insert(1, \"ACEi Dose\", arb_dose, True) \n",
    "\n",
    "#TO DO\n",
    "# Other lung diseases (y/n), if Y list them\n",
    "# col_name = 'Other lung diseases (y/n), if Y list them'\n",
    "\n",
    "\n"
   ]
  },
  {
   "cell_type": "code",
   "execution_count": 3,
   "metadata": {},
   "outputs": [],
   "source": [
    "#columns with dates not available in new sheet\n",
    "# dates_col_list = ['Date of Admission', 'Date of Death/Discharge']\n",
    "\n",
    "num_col_list = []\n",
    "cat_col_list = []\n",
    "target_col = ''\n",
    "for column_name in data:\n",
    "    if(data[column_name][0] == 1 or data[column_name][0] == '1'):\n",
    "      num_col_list.append(column_name)\n",
    "    elif(data[column_name][0] == 0 or data[column_name][0] == '0'):\n",
    "      cat_col_list.append(column_name)\n",
    "    elif(data[column_name][0] == 'Y'):\n",
    "      target_col = column_name\n"
   ]
  },
  {
   "cell_type": "code",
   "execution_count": null,
   "metadata": {},
   "outputs": [],
   "source": [
    "data = data.loc[1:num_patients,:]\n"
   ]
  },
  {
   "cell_type": "code",
   "execution_count": 4,
   "metadata": {},
   "outputs": [],
   "source": [
    "#One hot encoding \n",
    "def one_hot_encode(data, col_list):\n",
    "    \n",
    "    encoded_df = data[col_list[0]] #add dummy col, del in the end\n",
    "\n",
    "    for i in range(len(col_list)):\n",
    "        each_col_df = data[col_list[i]]\n",
    "        each_col_df = each_col_df.astype(str).str.lower()\n",
    "        each_col_df = pd.get_dummies(each_col_df, prefix=col_list[i] +\"_is\")\n",
    "        encoded_df = pd.concat([encoded_df, each_col_df], axis=1)\n",
    "        \n",
    "    encoded_df = encoded_df.drop(columns=[col_list[0]])\n",
    "    return encoded_df\n",
    "    "
   ]
  },
  {
   "cell_type": "code",
   "execution_count": 5,
   "metadata": {},
   "outputs": [],
   "source": [
    "encoded_df = one_hot_encode(data, cat_col_list)\n",
    "\n",
    "#dropping is_nan columns after encoding\n",
    "isnan_col_list = []\n",
    "for column_name in encoded_df:\n",
    "    if(column_name.endswith('is_nan')):\n",
    "      isnan_col_list.append(column_name)\n",
    "\n",
    "encoded_df = encoded_df.drop(isnan_col_list , axis=1)"
   ]
  },
  {
   "cell_type": "code",
   "execution_count": null,
   "metadata": {},
   "outputs": [],
   "source": []
  },
  {
   "cell_type": "code",
   "execution_count": null,
   "metadata": {},
   "outputs": [],
   "source": [
    "# from sklearn.impute import KNNImputer\n",
    "# def handle_numeric_missing_data(data, num_col_list):\n",
    "#     numeric_df = data[num_col_list]\n",
    "    \n",
    "#     #find missing ratio \n",
    "#     num_df_missing = numeric_df.isna()\n",
    "#     num_df_missing = num_df_missing.sum()\n",
    "#     num_df_missing = num_df_missing/num_patients\n",
    "    \n",
    "#     #if missing ratio exceeds threshold, drop them\n",
    "#     threshold = 0.90\n",
    "#     drop_col_list = []\n",
    "#     rem_col_list = []\n",
    "#     for i in range(len(num_col_list)):\n",
    "#         if(num_df_missing[num_col_list[i]] > threshold):\n",
    "#            drop_col_list.append(num_col_list[i])\n",
    "#         else:\n",
    "#            rem_col_list.append(num_col_list[i])\n",
    "#     numeric_df = numeric_df.drop(columns=drop_col_list)\n",
    "    \n",
    "#     #imputation using kNN\n",
    "#     imputer = KNNImputer(n_neighbors=9)\n",
    "#     df_filled = imputer.fit_transform(numeric_df)\n",
    "#     numeric_df = pd.DataFrame(df_filled, columns=rem_col_list)\n",
    "#     return numeric_df"
   ]
  },
  {
   "cell_type": "code",
   "execution_count": null,
   "metadata": {},
   "outputs": [],
   "source": [
    "numeric_df = data[num_col_list]\n",
    "\n",
    "total_data = pd.concat([numeric_df, encoded_df], axis=1)"
   ]
  },
  {
   "cell_type": "code",
   "execution_count": null,
   "metadata": {},
   "outputs": [],
   "source": [
    "\n",
    "temp = data[target_col]\n",
    "data[target_col] =  temp.astype(str).str.lower()\n",
    "data[target_col]\n",
    "i = data[((data[target_col] == 'y') | ( data[target_col] == 'n'))].index\n",
    "My_list = [*range(1, num_patients+1, 1)] \n",
    "drop_indices = (list(set(My_list) - set(i)))"
   ]
  },
  {
   "cell_type": "code",
   "execution_count": null,
   "metadata": {},
   "outputs": [],
   "source": [
    "droppped_data = data.drop(drop_indices)\n",
    "dropped_total_data = total_data.drop(drop_indices)\n"
   ]
  },
  {
   "cell_type": "code",
   "execution_count": null,
   "metadata": {},
   "outputs": [],
   "source": [
    "\n",
    "droppped_data[target_col] = pd.Categorical(droppped_data[target_col])\n",
    "droppped_data['Y'] = droppped_data[target_col].cat.codes"
   ]
  },
  {
   "cell_type": "code",
   "execution_count": null,
   "metadata": {},
   "outputs": [],
   "source": [
    "def is_number_tryexcept(s):\n",
    "    \"\"\" Returns True is string is a number. \"\"\"\n",
    "    try:\n",
    "        float(s)\n",
    "        return True\n",
    "    except ValueError:\n",
    "        return False"
   ]
  },
  {
   "cell_type": "code",
   "execution_count": null,
   "metadata": {},
   "outputs": [],
   "source": [
    "X = dropped_total_data.values\n",
    "\n",
    "for i in range(X.shape[0]):\n",
    "  for j in range(X.shape[1]):\n",
    "    # if(pd.isnull(X[i][j])):\n",
    "    #   X[i][j] = 0\n",
    "    if(not pd.isnull(X[i][j])):\n",
    "      if((X[i][j]) == '<150'):\n",
    "        X[i][j] = 150\n",
    "      elif(not is_number_tryexcept(X[i][j])):\n",
    "        X[i][j] = np.nan\n",
    "      "
   ]
  },
  {
   "cell_type": "code",
   "execution_count": null,
   "metadata": {},
   "outputs": [],
   "source": [
    "Y = droppped_data['Y']"
   ]
  },
  {
   "cell_type": "code",
   "execution_count": null,
   "metadata": {},
   "outputs": [],
   "source": [
    "from xgboost import XGBClassifier\n",
    "from sklearn.model_selection import train_test_split\n",
    "from sklearn.metrics import accuracy_score\n",
    "seed = 7\n",
    "test_size = 0.33\n",
    "X_train, X_test, y_train, y_test = train_test_split(X, Y, test_size=test_size, random_state=seed)"
   ]
  },
  {
   "cell_type": "code",
   "execution_count": null,
   "metadata": {},
   "outputs": [],
   "source": [
    "# fit model no training data\n",
    "model = XGBClassifier()\n",
    "model.fit(X_train, y_train)\n",
    "print(model)"
   ]
  },
  {
   "cell_type": "code",
   "execution_count": null,
   "metadata": {},
   "outputs": [],
   "source": [
    "# make predictions for test data\n",
    "y_pred = model.predict(X_test)\n",
    "predictions = [round(value) for value in y_pred]\n",
    "# evaluate predictions\n",
    "accuracy = accuracy_score(y_test, predictions)\n",
    "print(\"Accuracy: %.2f%%\" % (accuracy * 100.0))"
   ]
  }
 ],
 "metadata": {
  "kernelspec": {
   "display_name": "Python 3",
   "language": "python",
   "name": "python3"
  },
  "language_info": {
   "codemirror_mode": {
    "name": "ipython",
    "version": 3
   },
   "file_extension": ".py",
   "mimetype": "text/x-python",
   "name": "python",
   "nbconvert_exporter": "python",
   "pygments_lexer": "ipython3",
   "version": "3.7.4"
  }
 },
 "nbformat": 4,
 "nbformat_minor": 2
}
