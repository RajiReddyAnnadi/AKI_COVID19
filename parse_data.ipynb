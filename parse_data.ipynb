{
 "cells": [
  {
   "cell_type": "code",
   "execution_count": 1,
   "metadata": {},
   "outputs": [],
   "source": [
    "import pandas as pd\n",
    "import numpy as np"
   ]
  },
  {
   "cell_type": "code",
   "execution_count": 2,
   "metadata": {},
   "outputs": [],
   "source": [
    "data = pd.read_csv(\"Consolidated_Total_COVID_List.csv\")\n",
    "\n",
    "num_patients = 300\n",
    "data = data.loc[0:num_patients-1,:]\n"
   ]
  },
  {
   "cell_type": "code",
   "execution_count": 3,
   "metadata": {},
   "outputs": [],
   "source": [
    "total_col_list = list(data.columns.values)\n",
    "\n",
    "#have to drop unnecessary columns\n",
    "total_col_list.remove('Study ID')\n",
    "\n",
    "#sample numerical column list --- have to add more column names\n",
    "num_col_list = ['Days prior to onset of SX', 'Temperature at admission', 'Cr at admmsion', 'Peak Cr during hospital stay', 'Cr at discharge']\n",
    "\n",
    "#sample dates column list\n",
    "dates_col_list = ['Date of Admission', 'Date of Death/Discharge']\n",
    "#what to do with missing date values?\n",
    "# temp = data.dropna(subset=dates_col_list)\n",
    "\n",
    "#fetching remaining column names as categorical column names\n",
    "cat_col_list = []\n",
    "for i in range(len(total_col_list)):\n",
    "    if ( not (total_col_list[i] in num_col_list or total_col_list[i] in dates_col_list )):\n",
    "        cat_col_list.append(total_col_list[i])\n"
   ]
  },
  {
   "cell_type": "code",
   "execution_count": 4,
   "metadata": {},
   "outputs": [],
   "source": [
    "#One hot encoding \n",
    "def one_hot_encode(data, col_list):\n",
    "    \n",
    "    encoded_df = data[col_list[0]]\n",
    "    for i in range(len(col_list)):\n",
    "        each_col_df = data[col_list[i]]\n",
    "        each_col_df = each_col_df.astype(str).str.lower()\n",
    "        each_col_df = pd.get_dummies(each_col_df, prefix=col_list[i] +\"_is\")\n",
    "        encoded_df = pd.concat([encoded_df, each_col_df], axis=1)\n",
    "    encoded_df = encoded_df.drop(columns=[col_list[0]])\n",
    "    return encoded_df\n",
    "    "
   ]
  },
  {
   "cell_type": "code",
   "execution_count": 5,
   "metadata": {},
   "outputs": [],
   "source": [
    "encoded_df = one_hot_encode(data, cat_col_list)"
   ]
  },
  {
   "cell_type": "code",
   "execution_count": null,
   "metadata": {},
   "outputs": [],
   "source": [
    "from sklearn.impute import KNNImputer\n",
    "def handle_numeric_missing_data(data, num_col_list):\n",
    "    numeric_df = data[num_col_list]\n",
    "    \n",
    "    #find missing ratio \n",
    "    num_df_missing = numeric_df.isna()\n",
    "    num_df_missing = num_df_missing.sum()\n",
    "    num_df_missing = num_df_missing/num_patients\n",
    "    \n",
    "    #if missing ratio exceeds threshold, drop them\n",
    "    threshold = 0.90\n",
    "    drop_col_list = []\n",
    "    rem_col_list = []\n",
    "    for i in range(len(num_col_list)):\n",
    "        if(num_df_missing[num_col_list[i]] > threshold):\n",
    "           drop_col_list.append(num_col_list[i])\n",
    "        else:\n",
    "           rem_col_list.append(num_col_list[i])\n",
    "    numeric_df = numeric_df.drop(columns=drop_col_list)\n",
    "    \n",
    "    #imputation using kNN\n",
    "    imputer = KNNImputer(n_neighbors=9)\n",
    "    df_filled = imputer.fit_transform(numeric_df)\n",
    "    numeric_df = pd.DataFrame(df_filled, columns=rem_col_list)\n",
    "    return numeric_df"
   ]
  },
  {
   "cell_type": "code",
   "execution_count": null,
   "metadata": {},
   "outputs": [],
   "source": [
    "numeric_df = handle_numeric_missing_data(data, num_col_list)\n",
    "total_data = pd.concat([numeric_df, encoded_df], axis=1)"
   ]
  },
  {
   "cell_type": "code",
   "execution_count": null,
   "metadata": {},
   "outputs": [],
   "source": []
  },
  {
   "cell_type": "code",
   "execution_count": null,
   "metadata": {},
   "outputs": [],
   "source": []
  }
 ],
 "metadata": {
  "kernelspec": {
   "display_name": "Python 3",
   "language": "python",
   "name": "python3"
  },
  "language_info": {
   "codemirror_mode": {
    "name": "ipython",
    "version": 3
   },
   "file_extension": ".py",
   "mimetype": "text/x-python",
   "name": "python",
   "nbconvert_exporter": "python",
   "pygments_lexer": "ipython3",
   "version": "3.7.4"
  }
 },
 "nbformat": 4,
 "nbformat_minor": 2
}
